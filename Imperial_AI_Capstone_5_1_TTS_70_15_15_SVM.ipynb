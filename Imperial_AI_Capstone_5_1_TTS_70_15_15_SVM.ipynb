{
  "nbformat": 4,
  "nbformat_minor": 0,
  "metadata": {
    "colab": {
      "provenance": [],
      "authorship_tag": "ABX9TyNSNUvZnzfe+W4NoQoeY48b",
      "include_colab_link": true
    },
    "kernelspec": {
      "name": "python3",
      "display_name": "Python 3"
    },
    "language_info": {
      "name": "python"
    }
  },
  "cells": [
    {
      "cell_type": "markdown",
      "metadata": {
        "id": "view-in-github",
        "colab_type": "text"
      },
      "source": [
        "<a href=\"https://colab.research.google.com/github/Philip-Hogan/ImperialAICapstonePJH/blob/main/Imperial_AI_Capstone_5_1_TTS_70_15_15_SVM.ipynb\" target=\"_parent\"><img src=\"https://colab.research.google.com/assets/colab-badge.svg\" alt=\"Open In Colab\"/></a>"
      ]
    },
    {
      "cell_type": "code",
      "execution_count": 1,
      "metadata": {
        "colab": {
          "base_uri": "https://localhost:8080/"
        },
        "id": "8VsUkCA8_aZA",
        "outputId": "623234e6-d95f-4f61-c397-e9de82c6036a"
      },
      "outputs": [
        {
          "output_type": "stream",
          "name": "stdout",
          "text": [
            "178 124 27 27\n",
            "Validation Accuracy: 0.7407\n",
            "Test Accuracy: 0.7407\n",
            "\n",
            "Classification Report on Test Set:\n",
            "              precision    recall  f1-score   support\n",
            "\n",
            "     class_0       1.00      0.89      0.94         9\n",
            "     class_1       0.61      1.00      0.76        11\n",
            "     class_2       1.00      0.14      0.25         7\n",
            "\n",
            "    accuracy                           0.74        27\n",
            "   macro avg       0.87      0.68      0.65        27\n",
            "weighted avg       0.84      0.74      0.69        27\n",
            "\n"
          ]
        }
      ],
      "source": [
        "from sklearn.datasets import load_wine\n",
        "from sklearn.model_selection import train_test_split\n",
        "#from sklearn.linear_model import LogisticRegression\n",
        "from sklearn.svm import SVC  # Changed to SVM\n",
        "from sklearn.preprocessing import StandardScaler  # Added for scaling\n",
        "from sklearn.metrics import accuracy_score, classification_report\n",
        "\n",
        "# Load the default wine dataset\n",
        "data = load_wine()\n",
        "X = data.data\n",
        "y = data.target\n",
        "\n",
        "# Split data into train (70%), validation (15%) and test (15%)sets\n",
        "X_train_val, X_test, y_train_val, y_test = train_test_split(\n",
        "    X, y, test_size=0.15, random_state=42, stratify=y\n",
        ")\n",
        "X_train, X_val, y_train, y_val = train_test_split(\n",
        "    X_train_val, y_train_val, test_size=0.1765, random_state=42, stratify=y_train_val\n",
        ")\n",
        "\n",
        "# 0.1765 * 0.85 ≈ 0.15, so validation is ~15% of total\n",
        "print(len(X), len(X_train), len(X_val), len(X_test))\n",
        "\n",
        "# Fit the logistic regression model\n",
        "#model = LogisticRegression(max_iter=1000, random_state=42)\n",
        "#model.fit(X_train, y_train)\n",
        "# Fit the SVM model\n",
        "model = SVC(kernel='rbf', random_state=42)  # Changed to SVM with RBF kernel\n",
        "model.fit(X_train, y_train)\n",
        "\n",
        "# Evaluate the validation set\n",
        "val_preds = model.predict(X_val)\n",
        "val_accuracy = accuracy_score(y_val, val_preds)\n",
        "print(f\"Validation Accuracy: {val_accuracy:.4f}\")\n",
        "\n",
        "# Evaluate the test set\n",
        "test_preds = model.predict(X_test)\n",
        "test_accuracy = accuracy_score(y_test, test_preds)\n",
        "print(f\"Test Accuracy: {test_accuracy:.4f}\")\n",
        "\n",
        "# Detailed classification report on test set\n",
        "print(\"\\nClassification Report on Test Set:\")\n",
        "print(classification_report(y_test, test_preds, target_names=data.target_names))"
      ]
    }
  ]
}